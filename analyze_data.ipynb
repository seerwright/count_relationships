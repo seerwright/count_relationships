{
 "cells": [
  {
   "cell_type": "code",
   "execution_count": 1,
   "id": "2378204d-47b9-4bdd-b2a0-cb253e6d8864",
   "metadata": {},
   "outputs": [
    {
     "name": "stdout",
     "output_type": "stream",
     "text": [
      "Note: you may need to restart the kernel to use updated packages.\n"
     ]
    },
    {
     "data": {
      "text/html": [
       "<span style=\"None\">Connecting to &#x27;duckdb://&#x27;</span>"
      ],
      "text/plain": [
       "Connecting to 'duckdb://'"
      ]
     },
     "metadata": {},
     "output_type": "display_data"
    }
   ],
   "source": [
    "import duckdb\n",
    "import pandas as pd\n",
    "\n",
    "%load_ext sql\n",
    "%pip install duckdb-engine --quiet\n",
    "%sql duckdb://"
   ]
  },
  {
   "cell_type": "code",
   "execution_count": 2,
   "id": "edc30321-4c10-44e0-b213-6f256d443971",
   "metadata": {},
   "outputs": [],
   "source": [
    "# duckdb.sql(\"CREATE TABLE users AS SELECT * FROM read_csv_auto('table_users.csv');\")\n",
    "# print(duckdb.sql(\"SELECT * FROM users LIMIT 10;\"))\n",
    "\n",
    "# duckdb.sql(\"CREATE TABLE user_brands AS SELECT * FROM read_csv_auto('table_user_brands.csv');\")\n",
    "# print(duckdb.sql(\"SELECT * FROM user_brands LIMIT 10;\"))"
   ]
  },
  {
   "cell_type": "code",
   "execution_count": 3,
   "id": "2c705a75-afe8-402c-b5af-3fca310ab719",
   "metadata": {},
   "outputs": [
    {
     "data": {
      "text/html": [
       "<span style=\"None\">Running query in &#x27;duckdb://&#x27;</span>"
      ],
      "text/plain": [
       "Running query in 'duckdb://'"
      ]
     },
     "metadata": {},
     "output_type": "display_data"
    },
    {
     "data": {
      "application/vnd.jupyter.widget-view+json": {
       "model_id": "229a27a0c1bb42da9fd68b4cab088b88",
       "version_major": 2,
       "version_minor": 0
      },
      "text/plain": [
       "FloatProgress(value=0.0, layout=Layout(width='auto'), style=ProgressStyle(bar_color='black'))"
      ]
     },
     "metadata": {},
     "output_type": "display_data"
    },
    {
     "data": {
      "application/vnd.jupyter.widget-view+json": {
       "model_id": "337196c021fe4ed980e491782cfcde7b",
       "version_major": 2,
       "version_minor": 0
      },
      "text/plain": [
       "FloatProgress(value=0.0, layout=Layout(width='auto'), style=ProgressStyle(bar_color='black'))"
      ]
     },
     "metadata": {},
     "output_type": "display_data"
    },
    {
     "data": {
      "text/html": [
       "<table>\n",
       "    <thead>\n",
       "        <tr>\n",
       "            <th>Count</th>\n",
       "        </tr>\n",
       "    </thead>\n",
       "    <tbody>\n",
       "    </tbody>\n",
       "</table>"
      ],
      "text/plain": [
       "+-------+\n",
       "| Count |\n",
       "+-------+\n",
       "+-------+"
      ]
     },
     "execution_count": 3,
     "metadata": {},
     "output_type": "execute_result"
    }
   ],
   "source": [
    "%%sql \n",
    "CREATE TABLE users AS SELECT * FROM read_csv_auto('table_users.csv');\n",
    "CREATE TABLE user_brands AS SELECT * FROM read_csv_auto('table_user_brands.csv');"
   ]
  },
  {
   "cell_type": "code",
   "execution_count": 4,
   "id": "667d29fa-8722-4b8d-93a2-8da74c4bae7b",
   "metadata": {},
   "outputs": [
    {
     "data": {
      "text/html": [
       "<span style=\"None\">Running query in &#x27;duckdb://&#x27;</span>"
      ],
      "text/plain": [
       "Running query in 'duckdb://'"
      ]
     },
     "metadata": {},
     "output_type": "display_data"
    },
    {
     "data": {
      "text/html": [
       "<table>\n",
       "    <thead>\n",
       "        <tr>\n",
       "            <th>user_id</th>\n",
       "            <th>first_name</th>\n",
       "            <th>last_name</th>\n",
       "            <th>email</th>\n",
       "            <th>favorite_color</th>\n",
       "            <th>birth_year</th>\n",
       "            <th>is_adult</th>\n",
       "        </tr>\n",
       "    </thead>\n",
       "    <tbody>\n",
       "        <tr>\n",
       "            <td>0</td>\n",
       "            <td>Jodi</td>\n",
       "            <td>Peterson</td>\n",
       "            <td>jodi.peterson@att.net</td>\n",
       "            <td>Unmellow Yellow</td>\n",
       "            <td>1999</td>\n",
       "            <td>True</td>\n",
       "        </tr>\n",
       "        <tr>\n",
       "            <td>1</td>\n",
       "            <td>Jenna</td>\n",
       "            <td>Bond</td>\n",
       "            <td>jenna.bond@home.nl</td>\n",
       "            <td>Neon Carrot</td>\n",
       "            <td>1988</td>\n",
       "            <td>True</td>\n",
       "        </tr>\n",
       "        <tr>\n",
       "            <td>2</td>\n",
       "            <td>Harrison</td>\n",
       "            <td>Pope</td>\n",
       "            <td>harrison.pope@yahoo.in</td>\n",
       "            <td>Neon Carrot</td>\n",
       "            <td>1963</td>\n",
       "            <td>True</td>\n",
       "        </tr>\n",
       "        <tr>\n",
       "            <td>3</td>\n",
       "            <td>June</td>\n",
       "            <td>Copeland</td>\n",
       "            <td>june.copeland@voila.fr</td>\n",
       "            <td>Blizzard Blue</td>\n",
       "            <td>1970</td>\n",
       "            <td>True</td>\n",
       "        </tr>\n",
       "        <tr>\n",
       "            <td>4</td>\n",
       "            <td>Juanita</td>\n",
       "            <td>Meyer</td>\n",
       "            <td>juanita.meyer@cox.net</td>\n",
       "            <td>Hot Magenta</td>\n",
       "            <td>1967</td>\n",
       "            <td>True</td>\n",
       "        </tr>\n",
       "    </tbody>\n",
       "</table>"
      ],
      "text/plain": [
       "+---------+------------+-----------+------------------------+-----------------+------------+----------+\n",
       "| user_id | first_name | last_name |         email          |  favorite_color | birth_year | is_adult |\n",
       "+---------+------------+-----------+------------------------+-----------------+------------+----------+\n",
       "|    0    |    Jodi    |  Peterson | jodi.peterson@att.net  | Unmellow Yellow |    1999    |   True   |\n",
       "|    1    |   Jenna    |    Bond   |   jenna.bond@home.nl   |   Neon Carrot   |    1988    |   True   |\n",
       "|    2    |  Harrison  |    Pope   | harrison.pope@yahoo.in |   Neon Carrot   |    1963    |   True   |\n",
       "|    3    |    June    |  Copeland | june.copeland@voila.fr |  Blizzard Blue  |    1970    |   True   |\n",
       "|    4    |  Juanita   |   Meyer   | juanita.meyer@cox.net  |   Hot Magenta   |    1967    |   True   |\n",
       "+---------+------------+-----------+------------------------+-----------------+------------+----------+"
      ]
     },
     "execution_count": 4,
     "metadata": {},
     "output_type": "execute_result"
    }
   ],
   "source": [
    "%%sql\n",
    "SELECT * FROM users LIMIT 5;"
   ]
  },
  {
   "cell_type": "code",
   "execution_count": 5,
   "id": "2e6624c1-822c-4120-aa54-405643f5f0c3",
   "metadata": {},
   "outputs": [
    {
     "data": {
      "text/html": [
       "<span style=\"None\">Running query in &#x27;duckdb://&#x27;</span>"
      ],
      "text/plain": [
       "Running query in 'duckdb://'"
      ]
     },
     "metadata": {},
     "output_type": "display_data"
    },
    {
     "data": {
      "text/html": [
       "<table>\n",
       "    <thead>\n",
       "        <tr>\n",
       "            <th>user_brand_id</th>\n",
       "            <th>user_id</th>\n",
       "            <th>brand_event_name</th>\n",
       "        </tr>\n",
       "    </thead>\n",
       "    <tbody>\n",
       "        <tr>\n",
       "            <td>0</td>\n",
       "            <td>0</td>\n",
       "            <td>Office Depot</td>\n",
       "        </tr>\n",
       "        <tr>\n",
       "            <td>1</td>\n",
       "            <td>0</td>\n",
       "            <td>Williams</td>\n",
       "        </tr>\n",
       "        <tr>\n",
       "            <td>2</td>\n",
       "            <td>0</td>\n",
       "            <td>Toys `R` Us</td>\n",
       "        </tr>\n",
       "        <tr>\n",
       "            <td>3</td>\n",
       "            <td>0</td>\n",
       "            <td>Oracle</td>\n",
       "        </tr>\n",
       "        <tr>\n",
       "            <td>4</td>\n",
       "            <td>0</td>\n",
       "            <td>Tyson Foods</td>\n",
       "        </tr>\n",
       "    </tbody>\n",
       "</table>"
      ],
      "text/plain": [
       "+---------------+---------+------------------+\n",
       "| user_brand_id | user_id | brand_event_name |\n",
       "+---------------+---------+------------------+\n",
       "|       0       |    0    |   Office Depot   |\n",
       "|       1       |    0    |     Williams     |\n",
       "|       2       |    0    |   Toys `R` Us    |\n",
       "|       3       |    0    |      Oracle      |\n",
       "|       4       |    0    |   Tyson Foods    |\n",
       "+---------------+---------+------------------+"
      ]
     },
     "execution_count": 5,
     "metadata": {},
     "output_type": "execute_result"
    }
   ],
   "source": [
    "%%sql\n",
    "SELECT * FROM user_brands LIMIT 5;"
   ]
  },
  {
   "cell_type": "code",
   "execution_count": 22,
   "id": "def4702c-e142-44a0-a7a3-dc159c800019",
   "metadata": {},
   "outputs": [
    {
     "data": {
      "text/html": [
       "<span style=\"None\">Running query in &#x27;duckdb://&#x27;</span>"
      ],
      "text/plain": [
       "Running query in 'duckdb://'"
      ]
     },
     "metadata": {},
     "output_type": "display_data"
    },
    {
     "data": {
      "application/vnd.jupyter.widget-view+json": {
       "model_id": "3969725ebb214d71a942c6c592d802b4",
       "version_major": 2,
       "version_minor": 0
      },
      "text/plain": [
       "FloatProgress(value=0.0, layout=Layout(width='auto'), style=ProgressStyle(bar_color='black'))"
      ]
     },
     "metadata": {},
     "output_type": "display_data"
    },
    {
     "data": {
      "text/html": [
       "<table>\n",
       "    <thead>\n",
       "        <tr>\n",
       "            <th>[0  - 0 ]</th>\n",
       "            <th>[1  - 5 ]</th>\n",
       "            <th>[6  - 10]</th>\n",
       "            <th>[11 - 20]</th>\n",
       "            <th>[21 - + ]</th>\n",
       "        </tr>\n",
       "    </thead>\n",
       "    <tbody>\n",
       "        <tr>\n",
       "            <td>0</td>\n",
       "            <td>21936136</td>\n",
       "            <td>9801761</td>\n",
       "            <td>1234188</td>\n",
       "            <td>21664</td>\n",
       "        </tr>\n",
       "    </tbody>\n",
       "</table>"
      ],
      "text/plain": [
       "+-----------+-----------+-----------+-----------+-----------+\n",
       "| [0  - 0 ] | [1  - 5 ] | [6  - 10] | [11 - 20] | [21 - + ] |\n",
       "+-----------+-----------+-----------+-----------+-----------+\n",
       "|     0     |  21936136 |  9801761  |  1234188  |   21664   |\n",
       "+-----------+-----------+-----------+-----------+-----------+"
      ]
     },
     "execution_count": 22,
     "metadata": {},
     "output_type": "execute_result"
    }
   ],
   "source": [
    "%%sql\n",
    "WITH joined_data AS\n",
    "    (\n",
    "    SELECT  u.*, ub.*\n",
    "    FROM    (SELECT * FROM users) AS u\n",
    "            INNER JOIN\n",
    "            (SELECT * FROM user_brands) as ub\n",
    "    ON    \n",
    "            u.user_id = ub.user_id\n",
    "    ), \n",
    "    joined_counts AS\n",
    "    (\n",
    "    SELECT user_id, COUNT(brand_event_name) AS event_count\n",
    "    FROM   joined_data\n",
    "    GROUP BY user_id\n",
    "    ORDER BY event_count\n",
    "    )\n",
    "SELECT \n",
    "    COUNT(CASE WHEN event_count >= 0  AND event_count <= 0   THEN 1 END) AS \"[0  - 0 ]\",\n",
    "    COUNT(CASE WHEN event_count >= 1  AND event_count <= 5   THEN 1 END) AS \"[1  - 5 ]\",\n",
    "    COUNT(CASE WHEN event_count >= 6  AND event_count <= 10  THEN 1 END) AS \"[6  - 10]\",\n",
    "    COUNT(CASE WHEN event_count >= 11 AND event_count <= 20  THEN 1 END) AS \"[11 - 20]\",\n",
    "    COUNT(CASE WHEN event_count >= 21 AND event_count <= 999 THEN 1 END) AS \"[21 - + ]\"\n",
    "FROM joined_counts;"
   ]
  },
  {
   "cell_type": "code",
   "execution_count": null,
   "id": "cd97d7f2-ccae-4771-9cae-0c59979886db",
   "metadata": {},
   "outputs": [],
   "source": [
    "%%sql\n"
   ]
  }
 ],
 "metadata": {
  "kernelspec": {
   "display_name": "Python 3 (ipykernel)",
   "language": "python",
   "name": "python3"
  },
  "language_info": {
   "codemirror_mode": {
    "name": "ipython",
    "version": 3
   },
   "file_extension": ".py",
   "mimetype": "text/x-python",
   "name": "python",
   "nbconvert_exporter": "python",
   "pygments_lexer": "ipython3",
   "version": "3.10.11"
  }
 },
 "nbformat": 4,
 "nbformat_minor": 5
}
